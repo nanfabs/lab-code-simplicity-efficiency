{
 "cells": [
  {
   "cell_type": "code",
   "execution_count": 12,
   "metadata": {},
   "outputs": [
    {
     "name": "stdout",
     "output_type": "stream",
     "text": [
      "What is the maximal length of the triangle side? Enter a number: 7\n",
      "The longest side possible is 5\n"
     ]
    }
   ],
   "source": [
    "\"\"\"\n",
    "You are presented with an integer number larger than 5. Your goal is to identify the longest side\n",
    "possible in a right triangle whose sides are not longer than the number you are given.\n",
    "\n",
    "For example, if you are given the number 15, there are 3 possibilities to compose right triangles:\n",
    "\n",
    "1. [3, 4, 5]\n",
    "2. [6, 8, 10]\n",
    "3. [5, 12, 13]\n",
    "\n",
    "The following function shows one way to solve the problem but the code is not ideal or efficient.\n",
    "Refactor the code based on what you have learned about code simplicity and efficiency.\n",
    "\"\"\"\n",
    "\n",
    "def get_longest_side(num):\n",
    "    solutions = [[x,y,z] for x in range(5,num) for y in range(4,num) for z in range(3,num) if (x*x==y*y+z*z)]\n",
    "    lado = 0\n",
    "    for value in solutions:\n",
    "        if lado < max(value):\n",
    "            lado = max(value)\n",
    "    return str(lado)\n",
    "\n",
    "num = int(input(\"What is the maximal length of the triangle side? Enter a number: \"))\n",
    "\n",
    "print(\"The longest side possible is {}\".format(str(get_longest_side((num)))))"
   ]
  },
  {
   "cell_type": "markdown",
   "metadata": {},
   "source": [
    "#### def triangle_longest_side():\n",
    "    num = int(input(\"What is the maximal length of the triangle side? Enter a number: \"))\n",
    "    side = 0\n",
    "    solutions = [[a, b, c] for a in range(5, num) for b in range(4, num) for c in range(3, num) if (a*a == b*b + c*c)]\n",
    "    for sides in solutions:\n",
    "        if side < max(sides):\n",
    "            side = max(sides)\n",
    "    print(f\"The longest side possible is {side}\")\n",
    "    return side"
   ]
  }
 ],
 "metadata": {
  "kernelspec": {
   "display_name": "Python 3",
   "language": "python",
   "name": "python3"
  },
  "language_info": {
   "codemirror_mode": {
    "name": "ipython",
    "version": 3
   },
   "file_extension": ".py",
   "mimetype": "text/x-python",
   "name": "python",
   "nbconvert_exporter": "python",
   "pygments_lexer": "ipython3",
   "version": "3.7.4"
  }
 },
 "nbformat": 4,
 "nbformat_minor": 2
}
